{
  "cells": [
    {
      "cell_type": "markdown",
      "source": [
        "#**Importing Library**"
      ],
      "metadata": {
        "id": "LJW_j-9pxE97"
      }
    },
    {
      "cell_type": "code",
      "execution_count": null,
      "metadata": {
        "id": "Vf4P4tOulQFv"
      },
      "outputs": [],
      "source": [
        "import pandas as pd\n",
        "import matplotlib.pyplot as plt\n",
        "import sklearn\n",
        "from sklearn.model_selection import train_test_split\n",
        "from sklearn.metrics import f1_score\n",
        "from sklearn import preprocessing\n",
        "from sklearn.model_selection import train_test_split\n",
        "from sklearn.linear_model import LogisticRegression\n",
        "from sklearn.model_selection import GridSearchCV\n",
        "from sklearn.multiclass import OneVsRestClassifier\n",
        "import numpy as np\n",
        "\n",
        "%matplotlib inline"
      ]
    },
    {
      "cell_type": "markdown",
      "source": [
        "# **Getting the files**"
      ],
      "metadata": {
        "id": "Tdul3dhemHGw"
      }
    },
    {
      "cell_type": "code",
      "execution_count": null,
      "metadata": {
        "id": "4rEiQkYWlQFw",
        "outputId": "1b5f4168-ae48-4836-94dc-91def5c608da"
      },
      "outputs": [
        {
          "data": {
            "text/html": [
              "<div>\n",
              "<style scoped>\n",
              "    .dataframe tbody tr th:only-of-type {\n",
              "        vertical-align: middle;\n",
              "    }\n",
              "\n",
              "    .dataframe tbody tr th {\n",
              "        vertical-align: top;\n",
              "    }\n",
              "\n",
              "    .dataframe thead th {\n",
              "        text-align: right;\n",
              "    }\n",
              "</style>\n",
              "<table border=\"1\" class=\"dataframe\">\n",
              "  <thead>\n",
              "    <tr style=\"text-align: right;\">\n",
              "      <th></th>\n",
              "      <th>id</th>\n",
              "      <th>Artist Name</th>\n",
              "      <th>Track Name</th>\n",
              "      <th>Popularity</th>\n",
              "      <th>duration</th>\n",
              "      <th>Class</th>\n",
              "      <th>feature_1</th>\n",
              "      <th>feature_2</th>\n",
              "      <th>feature_3</th>\n",
              "      <th>feature_4</th>\n",
              "      <th>feature_5</th>\n",
              "      <th>feature_6</th>\n",
              "      <th>feature_7</th>\n",
              "      <th>feature_8</th>\n",
              "      <th>feature_9</th>\n",
              "      <th>key</th>\n",
              "      <th>mode</th>\n",
              "      <th>time_signature</th>\n",
              "    </tr>\n",
              "  </thead>\n",
              "  <tbody>\n",
              "    <tr>\n",
              "      <th>0</th>\n",
              "      <td>0</td>\n",
              "      <td>BrMa</td>\n",
              "      <td>track_1</td>\n",
              "      <td>60.0</td>\n",
              "      <td>234.596</td>\n",
              "      <td>6</td>\n",
              "      <td>0.854745</td>\n",
              "      <td>0.563472</td>\n",
              "      <td>0.873150</td>\n",
              "      <td>0.027152</td>\n",
              "      <td>0.017169</td>\n",
              "      <td>NaN</td>\n",
              "      <td>0.070304</td>\n",
              "      <td>0.911981</td>\n",
              "      <td>0.558039</td>\n",
              "      <td>1.0</td>\n",
              "      <td>major</td>\n",
              "      <td>type 4</td>\n",
              "    </tr>\n",
              "    <tr>\n",
              "      <th>1</th>\n",
              "      <td>1</td>\n",
              "      <td>De</td>\n",
              "      <td>track_1</td>\n",
              "      <td>66.0</td>\n",
              "      <td>173.968</td>\n",
              "      <td>6</td>\n",
              "      <td>0.853669</td>\n",
              "      <td>0.596512</td>\n",
              "      <td>0.834119</td>\n",
              "      <td>0.034664</td>\n",
              "      <td>0.021285</td>\n",
              "      <td>NaN</td>\n",
              "      <td>0.107996</td>\n",
              "      <td>0.570260</td>\n",
              "      <td>0.412278</td>\n",
              "      <td>10.0</td>\n",
              "      <td>minor</td>\n",
              "      <td>type 4</td>\n",
              "    </tr>\n",
              "    <tr>\n",
              "      <th>2</th>\n",
              "      <td>2</td>\n",
              "      <td>DuAh</td>\n",
              "      <td>track_1</td>\n",
              "      <td>14.0</td>\n",
              "      <td>164.093</td>\n",
              "      <td>10</td>\n",
              "      <td>0.706262</td>\n",
              "      <td>0.884861</td>\n",
              "      <td>0.888523</td>\n",
              "      <td>0.010839</td>\n",
              "      <td>0.061647</td>\n",
              "      <td>NaN</td>\n",
              "      <td>0.241085</td>\n",
              "      <td>0.843637</td>\n",
              "      <td>0.525542</td>\n",
              "      <td>1.0</td>\n",
              "      <td>minor</td>\n",
              "      <td>type 4</td>\n",
              "    </tr>\n",
              "    <tr>\n",
              "      <th>3</th>\n",
              "      <td>3</td>\n",
              "      <td>EyGo</td>\n",
              "      <td>track_1</td>\n",
              "      <td>34.0</td>\n",
              "      <td>206.875</td>\n",
              "      <td>10</td>\n",
              "      <td>0.565311</td>\n",
              "      <td>0.380250</td>\n",
              "      <td>0.806818</td>\n",
              "      <td>0.024791</td>\n",
              "      <td>0.436747</td>\n",
              "      <td>NaN</td>\n",
              "      <td>0.112059</td>\n",
              "      <td>0.314487</td>\n",
              "      <td>0.610897</td>\n",
              "      <td>1.0</td>\n",
              "      <td>minor</td>\n",
              "      <td>type 4</td>\n",
              "    </tr>\n",
              "    <tr>\n",
              "      <th>4</th>\n",
              "      <td>4</td>\n",
              "      <td>HaLaBrdeLo</td>\n",
              "      <td>track_1</td>\n",
              "      <td>34.0</td>\n",
              "      <td>266.415</td>\n",
              "      <td>8</td>\n",
              "      <td>0.432968</td>\n",
              "      <td>0.373242</td>\n",
              "      <td>0.695840</td>\n",
              "      <td>0.010625</td>\n",
              "      <td>0.952811</td>\n",
              "      <td>0.932731</td>\n",
              "      <td>0.117139</td>\n",
              "      <td>0.161230</td>\n",
              "      <td>0.498027</td>\n",
              "      <td>11.0</td>\n",
              "      <td>minor</td>\n",
              "      <td>type 3</td>\n",
              "    </tr>\n",
              "    <tr>\n",
              "      <th>...</th>\n",
              "      <td>...</td>\n",
              "      <td>...</td>\n",
              "      <td>...</td>\n",
              "      <td>...</td>\n",
              "      <td>...</td>\n",
              "      <td>...</td>\n",
              "      <td>...</td>\n",
              "      <td>...</td>\n",
              "      <td>...</td>\n",
              "      <td>...</td>\n",
              "      <td>...</td>\n",
              "      <td>...</td>\n",
              "      <td>...</td>\n",
              "      <td>...</td>\n",
              "      <td>...</td>\n",
              "      <td>...</td>\n",
              "      <td>...</td>\n",
              "      <td>...</td>\n",
              "    </tr>\n",
              "    <tr>\n",
              "      <th>6048</th>\n",
              "      <td>6048</td>\n",
              "      <td>Mod</td>\n",
              "      <td>track_4</td>\n",
              "      <td>40.0</td>\n",
              "      <td>185.016</td>\n",
              "      <td>9</td>\n",
              "      <td>0.422208</td>\n",
              "      <td>0.994994</td>\n",
              "      <td>0.898256</td>\n",
              "      <td>0.055806</td>\n",
              "      <td>0.000103</td>\n",
              "      <td>0.360441</td>\n",
              "      <td>0.191303</td>\n",
              "      <td>0.226468</td>\n",
              "      <td>0.374596</td>\n",
              "      <td>1.0</td>\n",
              "      <td>major</td>\n",
              "      <td>type 4</td>\n",
              "    </tr>\n",
              "    <tr>\n",
              "      <th>6049</th>\n",
              "      <td>6049</td>\n",
              "      <td>LiDukl</td>\n",
              "      <td>track_3</td>\n",
              "      <td>55.0</td>\n",
              "      <td>178.605</td>\n",
              "      <td>6</td>\n",
              "      <td>0.349042</td>\n",
              "      <td>0.819782</td>\n",
              "      <td>0.899004</td>\n",
              "      <td>0.190813</td>\n",
              "      <td>0.398594</td>\n",
              "      <td>NaN</td>\n",
              "      <td>0.099868</td>\n",
              "      <td>0.437714</td>\n",
              "      <td>0.324293</td>\n",
              "      <td>5.0</td>\n",
              "      <td>minor</td>\n",
              "      <td>type 4</td>\n",
              "    </tr>\n",
              "    <tr>\n",
              "      <th>6050</th>\n",
              "      <td>6050</td>\n",
              "      <td>gnk</td>\n",
              "      <td>track_1</td>\n",
              "      <td>20.0</td>\n",
              "      <td>244.053</td>\n",
              "      <td>10</td>\n",
              "      <td>0.578223</td>\n",
              "      <td>0.632555</td>\n",
              "      <td>0.793317</td>\n",
              "      <td>0.079309</td>\n",
              "      <td>0.010141</td>\n",
              "      <td>0.211847</td>\n",
              "      <td>0.625114</td>\n",
              "      <td>0.725588</td>\n",
              "      <td>0.589835</td>\n",
              "      <td>9.0</td>\n",
              "      <td>minor</td>\n",
              "      <td>type 4</td>\n",
              "    </tr>\n",
              "    <tr>\n",
              "      <th>6051</th>\n",
              "      <td>6051</td>\n",
              "      <td>SmHiCo</td>\n",
              "      <td>track_1</td>\n",
              "      <td>34.0</td>\n",
              "      <td>216.222</td>\n",
              "      <td>9</td>\n",
              "      <td>0.536260</td>\n",
              "      <td>0.980977</td>\n",
              "      <td>0.880163</td>\n",
              "      <td>0.051513</td>\n",
              "      <td>0.000030</td>\n",
              "      <td>0.000136</td>\n",
              "      <td>0.660673</td>\n",
              "      <td>0.252356</td>\n",
              "      <td>0.401319</td>\n",
              "      <td>4.0</td>\n",
              "      <td>minor</td>\n",
              "      <td>type 4</td>\n",
              "    </tr>\n",
              "    <tr>\n",
              "      <th>6052</th>\n",
              "      <td>6052</td>\n",
              "      <td>Bei</td>\n",
              "      <td>track_1</td>\n",
              "      <td>29.0</td>\n",
              "      <td>219.693</td>\n",
              "      <td>9</td>\n",
              "      <td>0.167205</td>\n",
              "      <td>0.804764</td>\n",
              "      <td>0.678670</td>\n",
              "      <td>0.118910</td>\n",
              "      <td>0.001295</td>\n",
              "      <td>0.919679</td>\n",
              "      <td>0.244133</td>\n",
              "      <td>0.348659</td>\n",
              "      <td>0.543440</td>\n",
              "      <td>6.0</td>\n",
              "      <td>minor</td>\n",
              "      <td>type 4</td>\n",
              "    </tr>\n",
              "  </tbody>\n",
              "</table>\n",
              "<p>6053 rows × 18 columns</p>\n",
              "</div>"
            ],
            "text/plain": [
              "        id Artist Name Track Name  Popularity  duration  Class  feature_1  \\\n",
              "0        0        BrMa    track_1        60.0   234.596      6   0.854745   \n",
              "1        1          De    track_1        66.0   173.968      6   0.853669   \n",
              "2        2        DuAh    track_1        14.0   164.093     10   0.706262   \n",
              "3        3        EyGo    track_1        34.0   206.875     10   0.565311   \n",
              "4        4  HaLaBrdeLo    track_1        34.0   266.415      8   0.432968   \n",
              "...    ...         ...        ...         ...       ...    ...        ...   \n",
              "6048  6048         Mod    track_4        40.0   185.016      9   0.422208   \n",
              "6049  6049      LiDukl    track_3        55.0   178.605      6   0.349042   \n",
              "6050  6050         gnk    track_1        20.0   244.053     10   0.578223   \n",
              "6051  6051      SmHiCo    track_1        34.0   216.222      9   0.536260   \n",
              "6052  6052         Bei    track_1        29.0   219.693      9   0.167205   \n",
              "\n",
              "      feature_2  feature_3  feature_4  feature_5  feature_6  feature_7  \\\n",
              "0      0.563472   0.873150   0.027152   0.017169        NaN   0.070304   \n",
              "1      0.596512   0.834119   0.034664   0.021285        NaN   0.107996   \n",
              "2      0.884861   0.888523   0.010839   0.061647        NaN   0.241085   \n",
              "3      0.380250   0.806818   0.024791   0.436747        NaN   0.112059   \n",
              "4      0.373242   0.695840   0.010625   0.952811   0.932731   0.117139   \n",
              "...         ...        ...        ...        ...        ...        ...   \n",
              "6048   0.994994   0.898256   0.055806   0.000103   0.360441   0.191303   \n",
              "6049   0.819782   0.899004   0.190813   0.398594        NaN   0.099868   \n",
              "6050   0.632555   0.793317   0.079309   0.010141   0.211847   0.625114   \n",
              "6051   0.980977   0.880163   0.051513   0.000030   0.000136   0.660673   \n",
              "6052   0.804764   0.678670   0.118910   0.001295   0.919679   0.244133   \n",
              "\n",
              "      feature_8  feature_9   key   mode time_signature  \n",
              "0      0.911981   0.558039   1.0  major         type 4  \n",
              "1      0.570260   0.412278  10.0  minor         type 4  \n",
              "2      0.843637   0.525542   1.0  minor         type 4  \n",
              "3      0.314487   0.610897   1.0  minor         type 4  \n",
              "4      0.161230   0.498027  11.0  minor         type 3  \n",
              "...         ...        ...   ...    ...            ...  \n",
              "6048   0.226468   0.374596   1.0  major         type 4  \n",
              "6049   0.437714   0.324293   5.0  minor         type 4  \n",
              "6050   0.725588   0.589835   9.0  minor         type 4  \n",
              "6051   0.252356   0.401319   4.0  minor         type 4  \n",
              "6052   0.348659   0.543440   6.0  minor         type 4  \n",
              "\n",
              "[6053 rows x 18 columns]"
            ]
          },
          "execution_count": 2,
          "metadata": {},
          "output_type": "execute_result"
        }
      ],
      "source": [
        "df1 = pd.read_csv(\"Data/data1.csv\")\n",
        "df2 = pd.read_csv(\"Data/data2.csv\")\n",
        "df3 = pd.read_csv(\"Data/data3.csv\")\n",
        "df3 = df3.drop(columns='Track Name')\n",
        "\n",
        "#merging based on id\n",
        "df12 = pd.merge(df1, df2, on = 'id')\n",
        "df = pd.merge(df12, df3, on = 'id')\n",
        "df"
      ]
    },
    {
      "cell_type": "code",
      "execution_count": null,
      "metadata": {
        "id": "PBXHld2alQFx"
      },
      "outputs": [],
      "source": [
        "DF_PROB1 = pd.read_csv('./Data/data1_test.csv')\n",
        "DF_PROB2 = pd.read_csv('./Data/data2_test.csv')\n",
        "DF_PROB3 = pd.read_csv('./Data/data3_test.csv')\n",
        "#merging based on id\n",
        "DF_PROB12 = pd.merge(DF_PROB1, DF_PROB2, on='id')\n",
        "DF_PROB = pd.merge(DF_PROB12, DF_PROB3, on='id')"
      ]
    },
    {
      "cell_type": "code",
      "execution_count": null,
      "metadata": {
        "id": "6a4AhCD6lQFx"
      },
      "outputs": [],
      "source": [
        "df_train = df.sample(frac = 0.8, random_state=0)\n",
        "df_test = df.drop(df_train.index)"
      ]
    },
    {
      "cell_type": "markdown",
      "source": [
        "# **Basic Explanatory Data Analysis**"
      ],
      "metadata": {
        "id": "dWrFi20VnPuV"
      }
    },
    {
      "cell_type": "markdown",
      "source": [
        "Data quality report![Screenshot 2023-11-14 184201.png](data:image/png;base64,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)"
      ],
      "metadata": {
        "id": "kEwf6jG6o-tE"
      }
    },
    {
      "cell_type": "markdown",
      "source": [
        "## **Histogram for continous features**"
      ],
      "metadata": {
        "id": "7dl3zUKkpNAK"
      }
    },
    {
      "cell_type": "code",
      "source": [
        "fig, (ax) = plt.subplots(nrows=3, ncols=4)\n",
        "itter = 0\n",
        "fig.tight_layout(pad=1)\n",
        "for feature_name in df[['feature_1', 'feature_2', 'feature_3', 'feature_4', 'feature_5', 'feature_6', 'feature_7', 'feature_8', 'feature_9', 'Popularity', 'duration']]:\n",
        "    x_var = df[feature_name]\n",
        "    if feature_name != 'Popularity':\n",
        "        x_var.hist(bins=128, ax=ax[math.floor(itter/4), itter % 4], grid=False)\n",
        "    else:\n",
        "        x_var.hist(bins=100, ax=ax[math.floor(itter/4), itter % 4], grid=False)\n",
        "\n",
        "    ax[math.floor(itter/4), itter % 4].set_title(feature_name)\n",
        "    itter +=1"
      ],
      "metadata": {
        "id": "Gr8xxUvfpTfK"
      },
      "execution_count": null,
      "outputs": []
    },
    {
      "cell_type": "markdown",
      "source": [
        "## **Bar chart for categorical features**"
      ],
      "metadata": {
        "id": "sxU-w5PjpQRK"
      }
    },
    {
      "cell_type": "code",
      "source": [
        "fig, (ax1, ax2, ax3) = plt.subplots(nrows=1, ncols=3)\n",
        "fig.tight_layout(pad=2)\n",
        "df['mode'].value_counts().plot(ax = ax1, kind='bar')\n",
        "df['key'].value_counts().plot(ax = ax2, kind='bar')\n",
        "df['time_signature'].value_counts().plot(ax = ax3, kind='bar')"
      ],
      "metadata": {
        "id": "9mo9JnXSpbd2"
      },
      "execution_count": null,
      "outputs": []
    },
    {
      "cell_type": "markdown",
      "source": [
        "## **Small Multiplies for continous**"
      ],
      "metadata": {
        "id": "oqrZzobfn87V"
      }
    },
    {
      "cell_type": "code",
      "source": [
        "fig, (ax) = plt.subplots(nrows=11, ncols=6, figsize=(3*6, 2*11))\n",
        "itter = 0\n",
        "fig.tight_layout(pad=1)\n",
        "for feature_name in df[['feature_1', 'feature_2', 'feature_3', 'feature_4', 'feature_5', 'feature_6', 'feature_7', 'feature_8', 'feature_9', 'Popularity', 'duration']]:\n",
        "    #Print the control\n",
        "    x_var = df[feature_name]\n",
        "    if feature_name != 'Popularity':\n",
        "        x_var.hist(bins=128, ax=ax[math.floor(itter/6), itter % 6], grid=False)\n",
        "    else:\n",
        "        x_var.hist(bins=100, ax=ax[math.floor(itter/6), itter % 6], grid=False)\n",
        "\n",
        "    ax[math.floor(itter/6), itter % 6].set_title(feature_name)\n",
        "    itter +=1\n",
        "\n",
        "    for class_num in df['Class'].unique():\n",
        "        x_var = df[df['Class'] == class_num][feature_name]\n",
        "        if feature_name != 'Popularity':\n",
        "            x_var.hist(bins=128, ax=ax[math.floor(itter/6), itter % 6], grid=False)\n",
        "        else:\n",
        "            x_var.hist(bins=100, ax=ax[math.floor(itter/6), itter % 6], grid=False)\n",
        "\n",
        "        ax[math.floor(itter/6), itter % 6].set_title(f\"{feature_name} vs Class {class_num}\")\n",
        "        itter +=1"
      ],
      "metadata": {
        "id": "ib9XHRfzn7To"
      },
      "execution_count": null,
      "outputs": []
    },
    {
      "cell_type": "markdown",
      "source": [
        "## **Small multiplies for discrete**"
      ],
      "metadata": {
        "id": "JxL8bMROoAVw"
      }
    },
    {
      "cell_type": "code",
      "source": [
        "fig, (ax) = plt.subplots(nrows=5, ncols=3, figsize=(3*6, 2*11))\n",
        "fig.tight_layout(pad=5)\n",
        "itter = 0\n",
        "for class_num in df['Class'].unique():\n",
        "    for feature_name in df[['mode', 'key', 'time_signature']]:\n",
        "        df[df['Class'] == class_num][feature_name].value_counts().plot(ax = ax[math.floor(itter/3), itter % 3], kind='bar')\n",
        "        ax[math.floor(itter/3), itter % 3].set_title(f\"{feature_name} vs Class {class_num}\")\n",
        "        itter +=1"
      ],
      "metadata": {
        "id": "FINr61TMn_1-"
      },
      "execution_count": null,
      "outputs": []
    },
    {
      "cell_type": "markdown",
      "source": [
        "# **Preprocessing functions**"
      ],
      "metadata": {
        "id": "SNhT9WVnmC3O"
      }
    },
    {
      "cell_type": "code",
      "execution_count": null,
      "metadata": {
        "id": "HEF_JrwelQFx"
      },
      "outputs": [],
      "source": [
        "def imputation(x, feature):\n",
        "    if(pd.isna(x)):\n",
        "        return df[feature].mean()\n",
        "    else:\n",
        "        return x\n",
        "def clamp_feat4(x):\n",
        "    if (x>0.4525261206445081):\n",
        "        return 1\n",
        "    else:\n",
        "        return x/0.4525261206445081\n",
        "def clamp_dur(x):\n",
        "  if (x>443.1293056446612):\n",
        "      return 1\n",
        "  else:\n",
        "      return x/443.1293056446612"
      ]
    },
    {
      "cell_type": "markdown",
      "source": [
        "## **Preprocess the training set**"
      ],
      "metadata": {
        "id": "f0uPs34PmUyW"
      }
    },
    {
      "cell_type": "code",
      "execution_count": null,
      "metadata": {
        "id": "1RXj4kq-lQFx",
        "outputId": "2dca2861-1b54-4390-9610-755e8d8f2c62"
      },
      "outputs": [
        {
          "data": {
            "text/plain": [
              "4985     9\n",
              "472      9\n",
              "5781     9\n",
              "4641     9\n",
              "1142    10\n",
              "        ..\n",
              "2020    10\n",
              "5396     8\n",
              "367      4\n",
              "3436     6\n",
              "4256    10\n",
              "Name: Class, Length: 4842, dtype: object"
            ]
          },
          "execution_count": 7,
          "metadata": {},
          "output_type": "execute_result"
        }
      ],
      "source": [
        "for features in ['feature_1', 'feature_2','feature_3', 'feature_4','feature_5','feature_7','feature_8','feature_9', 'Popularity']:\n",
        "    df_train[features] = df_train[features].apply(lambda x: imputation(x, feature=features))\n",
        "df_train['Popularity'] = df_train['Popularity'].apply(lambda x: x/100)\n",
        "df_train['Class'].apply(lambda x: str(x))\n",
        "df_train['duration'] =df_train['duration'].apply(lambda x: clamp_dur(x))\n",
        "df_train['feature_4'] =df_train['feature_4'].apply(lambda x: clamp_feat4(x))"
      ]
    },
    {
      "cell_type": "markdown",
      "source": [
        "Create numpy filled with the features"
      ],
      "metadata": {
        "id": "zT5HwpTzmcO1"
      }
    },
    {
      "cell_type": "code",
      "execution_count": null,
      "metadata": {
        "id": "Q4-lxfPalQFy"
      },
      "outputs": [],
      "source": [
        "X_train_con = df_train[['feature_1','feature_2','feature_3', 'feature_4','feature_5','feature_8','feature_9','Popularity', 'duration']].values"
      ]
    },
    {
      "cell_type": "markdown",
      "source": [
        "Create polynomial features"
      ],
      "metadata": {
        "id": "6tLl-Amgmvsc"
      }
    },
    {
      "cell_type": "code",
      "execution_count": null,
      "metadata": {
        "id": "WLOxUDlrlQFy"
      },
      "outputs": [],
      "source": [
        "X_poly = preprocessing.PolynomialFeatures(degree=5, include_bias=False).fit_transform(X=X_train_con)"
      ]
    },
    {
      "cell_type": "markdown",
      "source": [
        "Building the model"
      ],
      "metadata": {
        "id": "RaYEeF79pzjY"
      }
    },
    {
      "cell_type": "code",
      "execution_count": null,
      "metadata": {
        "id": "G2qfXVWglQFy"
      },
      "outputs": [],
      "source": [
        "model_con = OneVsRestClassifier(\n",
        "    estimator= LogisticRegression(class_weight='balanced', solver='newton-cg', max_iter=1000, C=32),\n",
        ")"
      ]
    },
    {
      "cell_type": "code",
      "execution_count": null,
      "metadata": {
        "id": "E1Y-LVPPlQFy",
        "outputId": "9f1d6307-625b-4ee9-c1b1-7e6e48d0646c"
      },
      "outputs": [
        {
          "data": {
            "text/html": [
              "<style>#sk-container-id-1 {color: black;}#sk-container-id-1 pre{padding: 0;}#sk-container-id-1 div.sk-toggleable {background-color: white;}#sk-container-id-1 label.sk-toggleable__label {cursor: pointer;display: block;width: 100%;margin-bottom: 0;padding: 0.3em;box-sizing: border-box;text-align: center;}#sk-container-id-1 label.sk-toggleable__label-arrow:before {content: \"▸\";float: left;margin-right: 0.25em;color: #696969;}#sk-container-id-1 label.sk-toggleable__label-arrow:hover:before {color: black;}#sk-container-id-1 div.sk-estimator:hover label.sk-toggleable__label-arrow:before {color: black;}#sk-container-id-1 div.sk-toggleable__content {max-height: 0;max-width: 0;overflow: hidden;text-align: left;background-color: #f0f8ff;}#sk-container-id-1 div.sk-toggleable__content pre {margin: 0.2em;color: black;border-radius: 0.25em;background-color: #f0f8ff;}#sk-container-id-1 input.sk-toggleable__control:checked~div.sk-toggleable__content {max-height: 200px;max-width: 100%;overflow: auto;}#sk-container-id-1 input.sk-toggleable__control:checked~label.sk-toggleable__label-arrow:before {content: \"▾\";}#sk-container-id-1 div.sk-estimator input.sk-toggleable__control:checked~label.sk-toggleable__label {background-color: #d4ebff;}#sk-container-id-1 div.sk-label input.sk-toggleable__control:checked~label.sk-toggleable__label {background-color: #d4ebff;}#sk-container-id-1 input.sk-hidden--visually {border: 0;clip: rect(1px 1px 1px 1px);clip: rect(1px, 1px, 1px, 1px);height: 1px;margin: -1px;overflow: hidden;padding: 0;position: absolute;width: 1px;}#sk-container-id-1 div.sk-estimator {font-family: monospace;background-color: #f0f8ff;border: 1px dotted black;border-radius: 0.25em;box-sizing: border-box;margin-bottom: 0.5em;}#sk-container-id-1 div.sk-estimator:hover {background-color: #d4ebff;}#sk-container-id-1 div.sk-parallel-item::after {content: \"\";width: 100%;border-bottom: 1px solid gray;flex-grow: 1;}#sk-container-id-1 div.sk-label:hover label.sk-toggleable__label {background-color: #d4ebff;}#sk-container-id-1 div.sk-serial::before {content: \"\";position: absolute;border-left: 1px solid gray;box-sizing: border-box;top: 0;bottom: 0;left: 50%;z-index: 0;}#sk-container-id-1 div.sk-serial {display: flex;flex-direction: column;align-items: center;background-color: white;padding-right: 0.2em;padding-left: 0.2em;position: relative;}#sk-container-id-1 div.sk-item {position: relative;z-index: 1;}#sk-container-id-1 div.sk-parallel {display: flex;align-items: stretch;justify-content: center;background-color: white;position: relative;}#sk-container-id-1 div.sk-item::before, #sk-container-id-1 div.sk-parallel-item::before {content: \"\";position: absolute;border-left: 1px solid gray;box-sizing: border-box;top: 0;bottom: 0;left: 50%;z-index: -1;}#sk-container-id-1 div.sk-parallel-item {display: flex;flex-direction: column;z-index: 1;position: relative;background-color: white;}#sk-container-id-1 div.sk-parallel-item:first-child::after {align-self: flex-end;width: 50%;}#sk-container-id-1 div.sk-parallel-item:last-child::after {align-self: flex-start;width: 50%;}#sk-container-id-1 div.sk-parallel-item:only-child::after {width: 0;}#sk-container-id-1 div.sk-dashed-wrapped {border: 1px dashed gray;margin: 0 0.4em 0.5em 0.4em;box-sizing: border-box;padding-bottom: 0.4em;background-color: white;}#sk-container-id-1 div.sk-label label {font-family: monospace;font-weight: bold;display: inline-block;line-height: 1.2em;}#sk-container-id-1 div.sk-label-container {text-align: center;}#sk-container-id-1 div.sk-container {/* jupyter's `normalize.less` sets `[hidden] { display: none; }` but bootstrap.min.css set `[hidden] { display: none !important; }` so we also need the `!important` here to be able to override the default hidden behavior on the sphinx rendered scikit-learn.org. See: https://github.com/scikit-learn/scikit-learn/issues/21755 */display: inline-block !important;position: relative;}#sk-container-id-1 div.sk-text-repr-fallback {display: none;}</style><div id=\"sk-container-id-1\" class=\"sk-top-container\"><div class=\"sk-text-repr-fallback\"><pre>OneVsRestClassifier(estimator=LogisticRegression(C=32, class_weight=&#x27;balanced&#x27;,\n",
              "                                                 max_iter=1000,\n",
              "                                                 solver=&#x27;newton-cg&#x27;))</pre><b>In a Jupyter environment, please rerun this cell to show the HTML representation or trust the notebook. <br />On GitHub, the HTML representation is unable to render, please try loading this page with nbviewer.org.</b></div><div class=\"sk-container\" hidden><div class=\"sk-item sk-dashed-wrapped\"><div class=\"sk-label-container\"><div class=\"sk-label sk-toggleable\"><input class=\"sk-toggleable__control sk-hidden--visually\" id=\"sk-estimator-id-1\" type=\"checkbox\" ><label for=\"sk-estimator-id-1\" class=\"sk-toggleable__label sk-toggleable__label-arrow\">OneVsRestClassifier</label><div class=\"sk-toggleable__content\"><pre>OneVsRestClassifier(estimator=LogisticRegression(C=32, class_weight=&#x27;balanced&#x27;,\n",
              "                                                 max_iter=1000,\n",
              "                                                 solver=&#x27;newton-cg&#x27;))</pre></div></div></div><div class=\"sk-parallel\"><div class=\"sk-parallel-item\"><div class=\"sk-item\"><div class=\"sk-label-container\"><div class=\"sk-label sk-toggleable\"><input class=\"sk-toggleable__control sk-hidden--visually\" id=\"sk-estimator-id-2\" type=\"checkbox\" ><label for=\"sk-estimator-id-2\" class=\"sk-toggleable__label sk-toggleable__label-arrow\">estimator: LogisticRegression</label><div class=\"sk-toggleable__content\"><pre>LogisticRegression(C=32, class_weight=&#x27;balanced&#x27;, max_iter=1000,\n",
              "                   solver=&#x27;newton-cg&#x27;)</pre></div></div></div><div class=\"sk-serial\"><div class=\"sk-item\"><div class=\"sk-estimator sk-toggleable\"><input class=\"sk-toggleable__control sk-hidden--visually\" id=\"sk-estimator-id-3\" type=\"checkbox\" ><label for=\"sk-estimator-id-3\" class=\"sk-toggleable__label sk-toggleable__label-arrow\">LogisticRegression</label><div class=\"sk-toggleable__content\"><pre>LogisticRegression(C=32, class_weight=&#x27;balanced&#x27;, max_iter=1000,\n",
              "                   solver=&#x27;newton-cg&#x27;)</pre></div></div></div></div></div></div></div></div></div></div>"
            ],
            "text/plain": [
              "OneVsRestClassifier(estimator=LogisticRegression(C=32, class_weight='balanced',\n",
              "                                                 max_iter=1000,\n",
              "                                                 solver='newton-cg'))"
            ]
          },
          "execution_count": 13,
          "metadata": {},
          "output_type": "execute_result"
        }
      ],
      "source": [
        "model_con.fit(X_poly, df_train[['Class']].values)"
      ]
    },
    {
      "cell_type": "code",
      "execution_count": null,
      "metadata": {
        "id": "GLsNk5nxlQFz"
      },
      "outputs": [],
      "source": [
        "def predict(X):\n",
        "    # Preprocess\n",
        "    classes = [ 4,  6,  8,  9, 10]\n",
        "    for features in ['feature_1','feature_2', 'feature_3', 'feature_4','feature_5','feature_8', 'feature_9','Popularity', 'duration']:\n",
        "        X[features] = X[features].apply(lambda x: imputation(x, feature=features))\n",
        "    X['Popularity'] = X['Popularity'].apply(lambda x: x/100)\n",
        "    X['duration'] =X['duration'].apply(lambda x: clamp_dur(x))\n",
        "    X['feature_4'] = X['feature_4'].apply(lambda x: clamp_feat4(x))\n",
        "    X_polynom = preprocessing.PolynomialFeatures(degree=5, include_bias=False).fit_transform(X=X[['feature_1','feature_2','feature_3', 'feature_4','feature_5','feature_8','feature_9','Popularity', 'duration']])\n",
        "\n",
        "    return model_con.predict(X_polynom)\n",
        "\n"
      ]
    },
    {
      "cell_type": "code",
      "execution_count": null,
      "metadata": {
        "id": "rgrnKOmmlQF0",
        "outputId": "8d3f67ff-414e-48d4-f750-d060061ee6a4"
      },
      "outputs": [
        {
          "name": "stdout",
          "output_type": "stream",
          "text": [
            "id                    6050\n",
            "Artist Name            ◊ûê\n",
            "Track Name         track_9\n",
            "Popularity             1.0\n",
            "duration               1.0\n",
            "Class                   10\n",
            "feature_1         0.974177\n",
            "feature_2              1.0\n",
            "feature_3         0.999551\n",
            "feature_4              1.0\n",
            "feature_5              1.0\n",
            "feature_6         0.990964\n",
            "feature_7         0.987809\n",
            "feature_8         0.983432\n",
            "feature_9         0.978415\n",
            "key                   11.0\n",
            "mode                 minor\n",
            "time_signature      type 5\n",
            "dtype: object\n"
          ]
        }
      ],
      "source": [
        "yhat = predict(df_test)"
      ]
    },
    {
      "cell_type": "markdown",
      "source": [
        "# **Getting the score on the test set**"
      ],
      "metadata": {
        "id": "s57Xjw_om9ON"
      }
    },
    {
      "cell_type": "code",
      "execution_count": null,
      "metadata": {
        "id": "W2L4_94LlQF0",
        "outputId": "44064e2e-4994-4e65-8fbc-9e0c337bfa2a"
      },
      "outputs": [
        {
          "data": {
            "text/plain": [
              "0.8117258464079273"
            ]
          },
          "execution_count": 19,
          "metadata": {},
          "output_type": "execute_result"
        }
      ],
      "source": [
        "f1_score(y_pred=yhat, y_true=df_test[['Class']].values, average='micro')"
      ]
    },
    {
      "cell_type": "markdown",
      "source": [
        "## Class distribution for prediction"
      ],
      "metadata": {
        "id": "3Quoh9UN0B0h"
      }
    },
    {
      "cell_type": "code",
      "execution_count": null,
      "metadata": {
        "id": "n4Cc9pHXlQF0",
        "outputId": "6a1d0a08-41ea-4001-c555-54f8ea2ac2cb"
      },
      "outputs": [
        {
          "data": {
            "text/plain": [
              "<Axes: xlabel='Class'>"
            ]
          },
          "execution_count": 20,
          "metadata": {},
          "output_type": "execute_result"
        },
        {
          "data": {
            "image/png": "[encoded data removed]",
            "text/plain": [
              "<Figure size 640x480 with 1 Axes>"
            ]
          },
          "metadata": {},
          "output_type": "display_data"
        }
      ],
      "source": [
        "pd.DataFrame({'Class':yhat}).value_counts().plot(kind='bar')"
      ]
    },
    {
      "cell_type": "markdown",
      "source": [
        "## Submitted Dataframe"
      ],
      "metadata": {
        "id": "IXYME9-60NOf"
      }
    },
    {
      "cell_type": "code",
      "execution_count": null,
      "metadata": {
        "id": "8y3j9YnElQF0",
        "outputId": "9880708b-36b0-4d50-f44e-e92f21ebda0c"
      },
      "outputs": [
        {
          "name": "stdout",
          "output_type": "stream",
          "text": [
            "id                     749\n",
            "Artist Name             ◊û\n",
            "Track Name_x       track_9\n",
            "Popularity            0.94\n",
            "duration               1.0\n",
            "feature_1         0.990316\n",
            "feature_2         0.997998\n",
            "feature_3         0.971426\n",
            "feature_4              1.0\n",
            "feature_5         0.997992\n",
            "feature_6         0.976908\n",
            "feature_7         0.981713\n",
            "feature_8         0.988609\n",
            "feature_9         0.999822\n",
            "Track Name_y       track_9\n",
            "key                   11.0\n",
            "mode                 minor\n",
            "time_signature      type 5\n",
            "dtype: object\n"
          ]
        }
      ],
      "source": [
        "list_class = predict(DF_PROB)\n",
        "df_to_submit = pd.DataFrame({'id' : DF_PROB['id'] })\n"
      ]
    },
    {
      "cell_type": "code",
      "execution_count": null,
      "metadata": {
        "id": "Py7KI00XlQF1"
      },
      "outputs": [],
      "source": [
        "df_to_submit['Class'] = list_class"
      ]
    },
    {
      "cell_type": "code",
      "execution_count": null,
      "metadata": {
        "id": "af_Trmh3lQF1",
        "outputId": "1d1f6648-8178-4a04-b06b-51b536ba9e68"
      },
      "outputs": [
        {
          "data": {
            "text/html": [
              "<div>\n",
              "<style scoped>\n",
              "    .dataframe tbody tr th:only-of-type {\n",
              "        vertical-align: middle;\n",
              "    }\n",
              "\n",
              "    .dataframe tbody tr th {\n",
              "        vertical-align: top;\n",
              "    }\n",
              "\n",
              "    .dataframe thead th {\n",
              "        text-align: right;\n",
              "    }\n",
              "</style>\n",
              "<table border=\"1\" class=\"dataframe\">\n",
              "  <thead>\n",
              "    <tr style=\"text-align: right;\">\n",
              "      <th></th>\n",
              "      <th>id</th>\n",
              "      <th>Class</th>\n",
              "    </tr>\n",
              "  </thead>\n",
              "  <tbody>\n",
              "    <tr>\n",
              "      <th>0</th>\n",
              "      <td>0</td>\n",
              "      <td>10</td>\n",
              "    </tr>\n",
              "    <tr>\n",
              "      <th>1</th>\n",
              "      <td>1</td>\n",
              "      <td>10</td>\n",
              "    </tr>\n",
              "    <tr>\n",
              "      <th>2</th>\n",
              "      <td>2</td>\n",
              "      <td>9</td>\n",
              "    </tr>\n",
              "    <tr>\n",
              "      <th>3</th>\n",
              "      <td>3</td>\n",
              "      <td>10</td>\n",
              "    </tr>\n",
              "    <tr>\n",
              "      <th>4</th>\n",
              "      <td>4</td>\n",
              "      <td>10</td>\n",
              "    </tr>\n",
              "    <tr>\n",
              "      <th>...</th>\n",
              "      <td>...</td>\n",
              "      <td>...</td>\n",
              "    </tr>\n",
              "    <tr>\n",
              "      <th>745</th>\n",
              "      <td>745</td>\n",
              "      <td>8</td>\n",
              "    </tr>\n",
              "    <tr>\n",
              "      <th>746</th>\n",
              "      <td>746</td>\n",
              "      <td>10</td>\n",
              "    </tr>\n",
              "    <tr>\n",
              "      <th>747</th>\n",
              "      <td>747</td>\n",
              "      <td>9</td>\n",
              "    </tr>\n",
              "    <tr>\n",
              "      <th>748</th>\n",
              "      <td>748</td>\n",
              "      <td>8</td>\n",
              "    </tr>\n",
              "    <tr>\n",
              "      <th>749</th>\n",
              "      <td>749</td>\n",
              "      <td>9</td>\n",
              "    </tr>\n",
              "  </tbody>\n",
              "</table>\n",
              "<p>750 rows × 2 columns</p>\n",
              "</div>"
            ],
            "text/plain": [
              "      id  Class\n",
              "0      0     10\n",
              "1      1     10\n",
              "2      2      9\n",
              "3      3     10\n",
              "4      4     10\n",
              "..   ...    ...\n",
              "745  745      8\n",
              "746  746     10\n",
              "747  747      9\n",
              "748  748      8\n",
              "749  749      9\n",
              "\n",
              "[750 rows x 2 columns]"
            ]
          },
          "execution_count": 23,
          "metadata": {},
          "output_type": "execute_result"
        }
      ],
      "source": [
        "df_to_submit[['id', 'Class']]"
      ]
    },
    {
      "cell_type": "code",
      "execution_count": null,
      "metadata": {
        "id": "FmDJJNRplQF1",
        "outputId": "024c0a7b-12a9-42b7-cdf3-e62a5ffe790d"
      },
      "outputs": [
        {
          "data": {
            "text/plain": [
              "<Axes: xlabel='Class'>"
            ]
          },
          "execution_count": 24,
          "metadata": {},
          "output_type": "execute_result"
        },
        {
          "data": {
            "image/png": "[encoded data removed]",
            "text/plain": [
              "<Figure size 640x480 with 1 Axes>"
            ]
          },
          "metadata": {},
          "output_type": "display_data"
        }
      ],
      "source": [
        "df_to_submit['Class'].value_counts().plot(kind='bar')"
      ]
    },
    {
      "cell_type": "code",
      "execution_count": null,
      "metadata": {
        "id": "qpOajEK8lQF1"
      },
      "outputs": [],
      "source": [
        "df_to_submit.to_csv('to_submit3.csv', index =False)"
      ]
    },
    {
      "cell_type": "code",
      "execution_count": null,
      "metadata": {
        "id": "2fp-C3oilQF1",
        "outputId": "dab5085e-f005-47bf-a239-a1bad3dd3a98"
      },
      "outputs": [
        {
          "data": {
            "text/plain": [
              "<Axes: xlabel='Class'>"
            ]
          },
          "execution_count": 26,
          "metadata": {},
          "output_type": "execute_result"
        },
        {
          "data": {
            "image/png": "[encoded data removed]",
            "text/plain": [
              "<Figure size 640x480 with 1 Axes>"
            ]
          },
          "metadata": {},
          "output_type": "display_data"
        }
      ],
      "source": [
        "(pd.read_csv('to_submit3.csv')['Class'].value_counts(len(pd.read_csv('to_submit3.csv')))).plot(kind='bar')"
      ]
    }
  ],
  "metadata": {
    "kernelspec": {
      "display_name": "Python 3",
      "language": "python",
      "name": "python3"
    },
    "language_info": {
      "codemirror_mode": {
        "name": "ipython",
        "version": 3
      },
      "file_extension": ".py",
      "mimetype": "text/x-python",
      "name": "python",
      "nbconvert_exporter": "python",
      "pygments_lexer": "ipython3",
      "version": "3.11.4"
    },
    "colab": {
      "provenance": []
    }
  },
  "nbformat": 4,
  "nbformat_minor": 0
}