{
 "cells": [
  {
   "cell_type": "markdown",
   "metadata": {},
   "source": [
    "# Ridge Regression and Lasso\n",
    "\n",
    "This notebook explores ridge regression and lasso. These alternative linear fitting techniques can improve a model's performance and interpretability."
   ]
  },
  {
   "cell_type": "markdown",
   "metadata": {},
   "source": [
    "## Import libraries "
   ]
  },
  {
   "cell_type": "code",
   "execution_count": 1,
   "metadata": {},
   "outputs": [],
   "source": [
    "import pandas as pd\n",
    "import numpy as np\n",
    "import matplotlib.pyplot as plt\n",
    "from sklearn.model_selection import train_test_split\n",
    "from sklearn.metrics import mean_squared_error\n",
    "\n",
    "%matplotlib inline"
   ]
  },
  {
   "cell_type": "markdown",
   "metadata": {},
   "source": [
    "## Exploratory Data Analysis "
   ]
  },
  {
   "cell_type": "code",
   "execution_count": 2,
   "metadata": {},
   "outputs": [
    {
     "data": {
      "text/html": [
       "<div>\n",
       "<style scoped>\n",
       "    .dataframe tbody tr th:only-of-type {\n",
       "        vertical-align: middle;\n",
       "    }\n",
       "\n",
       "    .dataframe tbody tr th {\n",
       "        vertical-align: top;\n",
       "    }\n",
       "\n",
       "    .dataframe thead th {\n",
       "        text-align: right;\n",
       "    }\n",
       "</style>\n",
       "<table border=\"1\" class=\"dataframe\">\n",
       "  <thead>\n",
       "    <tr style=\"text-align: right;\">\n",
       "      <th></th>\n",
       "      <th>ID</th>\n",
       "      <th>Brand</th>\n",
       "      <th>Tipe</th>\n",
       "      <th>CPU</th>\n",
       "      <th>RAM</th>\n",
       "      <th>Memori</th>\n",
       "      <th>GPU</th>\n",
       "      <th>SistemOperasi</th>\n",
       "      <th>Berat</th>\n",
       "      <th>Layar</th>\n",
       "      <th>Harga</th>\n",
       "    </tr>\n",
       "  </thead>\n",
       "  <tbody>\n",
       "    <tr>\n",
       "      <th>0</th>\n",
       "      <td>0</td>\n",
       "      <td>Pulse</td>\n",
       "      <td>NaN</td>\n",
       "      <td>Intel Core i3 7100U 2.4GHz</td>\n",
       "      <td>8GB</td>\n",
       "      <td>256GB SSD</td>\n",
       "      <td>Intel HD Graphics 620</td>\n",
       "      <td>Gemini 5</td>\n",
       "      <td>1.4kg</td>\n",
       "      <td>13.3inch IPS Panel Full HD 1920x1080</td>\n",
       "      <td>16258268.00</td>\n",
       "    </tr>\n",
       "    <tr>\n",
       "      <th>1</th>\n",
       "      <td>1</td>\n",
       "      <td>Pulse</td>\n",
       "      <td>Notebook</td>\n",
       "      <td>Intel Core i7 6500U 2.5GHz</td>\n",
       "      <td>4GB</td>\n",
       "      <td>1.0TB Hybrid</td>\n",
       "      <td>Intel HD Graphics 520</td>\n",
       "      <td>Gemini 2</td>\n",
       "      <td>2.32kg</td>\n",
       "      <td>15.6inch Full HD 1920x1080</td>\n",
       "      <td>14133900.00</td>\n",
       "    </tr>\n",
       "    <tr>\n",
       "      <th>2</th>\n",
       "      <td>2</td>\n",
       "      <td>Zenith</td>\n",
       "      <td>2 in 1 Convertible</td>\n",
       "      <td>NaN</td>\n",
       "      <td>8GB</td>\n",
       "      <td>256GB SSD</td>\n",
       "      <td>Intel HD Graphics 520</td>\n",
       "      <td>Gemini 5</td>\n",
       "      <td>1.6kg</td>\n",
       "      <td>13.3inch IPS Panel Full HD / Touchscreen 1920x...</td>\n",
       "      <td>13517319.32</td>\n",
       "    </tr>\n",
       "    <tr>\n",
       "      <th>3</th>\n",
       "      <td>3</td>\n",
       "      <td>Vivid</td>\n",
       "      <td>Notebook</td>\n",
       "      <td>NaN</td>\n",
       "      <td>4GB</td>\n",
       "      <td>500GB HDD</td>\n",
       "      <td>Intel HD Graphics 400</td>\n",
       "      <td>No OS</td>\n",
       "      <td>1.86kg</td>\n",
       "      <td>15.6inch 1366x768</td>\n",
       "      <td>4437188.00</td>\n",
       "    </tr>\n",
       "    <tr>\n",
       "      <th>4</th>\n",
       "      <td>4</td>\n",
       "      <td>Zenith</td>\n",
       "      <td>Notebook</td>\n",
       "      <td>Intel Core i3 6006U 2GHz</td>\n",
       "      <td>NaN</td>\n",
       "      <td>500GB HDD</td>\n",
       "      <td>Nvidia GeForce GTX 940MX</td>\n",
       "      <td>Gemini 5</td>\n",
       "      <td>2.2kg</td>\n",
       "      <td>15.6inch 1366x768</td>\n",
       "      <td>8034908.00</td>\n",
       "    </tr>\n",
       "  </tbody>\n",
       "</table>\n",
       "</div>"
      ],
      "text/plain": [
       "   ID   Brand                Tipe                         CPU  RAM  \\\n",
       "0   0   Pulse                 NaN  Intel Core i3 7100U 2.4GHz  8GB   \n",
       "1   1   Pulse            Notebook  Intel Core i7 6500U 2.5GHz  4GB   \n",
       "2   2  Zenith  2 in 1 Convertible                         NaN  8GB   \n",
       "3   3   Vivid            Notebook                         NaN  4GB   \n",
       "4   4  Zenith            Notebook    Intel Core i3 6006U 2GHz  NaN   \n",
       "\n",
       "         Memori                       GPU SistemOperasi   Berat  \\\n",
       "0     256GB SSD     Intel HD Graphics 620      Gemini 5   1.4kg   \n",
       "1  1.0TB Hybrid     Intel HD Graphics 520      Gemini 2  2.32kg   \n",
       "2     256GB SSD     Intel HD Graphics 520      Gemini 5   1.6kg   \n",
       "3     500GB HDD     Intel HD Graphics 400         No OS  1.86kg   \n",
       "4     500GB HDD  Nvidia GeForce GTX 940MX      Gemini 5   2.2kg   \n",
       "\n",
       "                                               Layar        Harga  \n",
       "0               13.3inch IPS Panel Full HD 1920x1080  16258268.00  \n",
       "1                         15.6inch Full HD 1920x1080  14133900.00  \n",
       "2  13.3inch IPS Panel Full HD / Touchscreen 1920x...  13517319.32  \n",
       "3                                  15.6inch 1366x768   4437188.00  \n",
       "4                                  15.6inch 1366x768   8034908.00  "
      ]
     },
     "execution_count": 2,
     "metadata": {},
     "output_type": "execute_result"
    }
   ],
   "source": [
    "DATAPATH = 'train.csv'\n",
    "\n",
    "data = pd.read_csv(DATAPATH)\n",
    "data.head()"
   ]
  },
  {
   "cell_type": "code",
   "execution_count": 3,
   "metadata": {},
   "outputs": [],
   "source": [
    "data.drop(['ID'], axis=1, inplace=True)"
   ]
  },
  {
   "cell_type": "code",
   "execution_count": 4,
   "metadata": {},
   "outputs": [
    {
     "data": {
      "text/html": [
       "<div>\n",
       "<style scoped>\n",
       "    .dataframe tbody tr th:only-of-type {\n",
       "        vertical-align: middle;\n",
       "    }\n",
       "\n",
       "    .dataframe tbody tr th {\n",
       "        vertical-align: top;\n",
       "    }\n",
       "\n",
       "    .dataframe thead th {\n",
       "        text-align: right;\n",
       "    }\n",
       "</style>\n",
       "<table border=\"1\" class=\"dataframe\">\n",
       "  <thead>\n",
       "    <tr style=\"text-align: right;\">\n",
       "      <th></th>\n",
       "      <th>Brand</th>\n",
       "      <th>Tipe</th>\n",
       "      <th>CPU</th>\n",
       "      <th>RAM</th>\n",
       "      <th>Memori</th>\n",
       "      <th>GPU</th>\n",
       "      <th>SistemOperasi</th>\n",
       "      <th>Berat</th>\n",
       "      <th>Layar</th>\n",
       "      <th>Harga</th>\n",
       "    </tr>\n",
       "  </thead>\n",
       "  <tbody>\n",
       "    <tr>\n",
       "      <th>0</th>\n",
       "      <td>Pulse</td>\n",
       "      <td>NaN</td>\n",
       "      <td>Intel Core i3 7100U 2.4GHz</td>\n",
       "      <td>8GB</td>\n",
       "      <td>256GB SSD</td>\n",
       "      <td>Intel HD Graphics 620</td>\n",
       "      <td>Gemini 5</td>\n",
       "      <td>1.4kg</td>\n",
       "      <td>13.3inch IPS Panel Full HD 1920x1080</td>\n",
       "      <td>16258268.00</td>\n",
       "    </tr>\n",
       "    <tr>\n",
       "      <th>1</th>\n",
       "      <td>Pulse</td>\n",
       "      <td>Notebook</td>\n",
       "      <td>Intel Core i7 6500U 2.5GHz</td>\n",
       "      <td>4GB</td>\n",
       "      <td>1.0TB Hybrid</td>\n",
       "      <td>Intel HD Graphics 520</td>\n",
       "      <td>Gemini 2</td>\n",
       "      <td>2.32kg</td>\n",
       "      <td>15.6inch Full HD 1920x1080</td>\n",
       "      <td>14133900.00</td>\n",
       "    </tr>\n",
       "    <tr>\n",
       "      <th>2</th>\n",
       "      <td>Zenith</td>\n",
       "      <td>2 in 1 Convertible</td>\n",
       "      <td>NaN</td>\n",
       "      <td>8GB</td>\n",
       "      <td>256GB SSD</td>\n",
       "      <td>Intel HD Graphics 520</td>\n",
       "      <td>Gemini 5</td>\n",
       "      <td>1.6kg</td>\n",
       "      <td>13.3inch IPS Panel Full HD / Touchscreen 1920x...</td>\n",
       "      <td>13517319.32</td>\n",
       "    </tr>\n",
       "    <tr>\n",
       "      <th>3</th>\n",
       "      <td>Vivid</td>\n",
       "      <td>Notebook</td>\n",
       "      <td>NaN</td>\n",
       "      <td>4GB</td>\n",
       "      <td>500GB HDD</td>\n",
       "      <td>Intel HD Graphics 400</td>\n",
       "      <td>No OS</td>\n",
       "      <td>1.86kg</td>\n",
       "      <td>15.6inch 1366x768</td>\n",
       "      <td>4437188.00</td>\n",
       "    </tr>\n",
       "    <tr>\n",
       "      <th>4</th>\n",
       "      <td>Zenith</td>\n",
       "      <td>Notebook</td>\n",
       "      <td>Intel Core i3 6006U 2GHz</td>\n",
       "      <td>NaN</td>\n",
       "      <td>500GB HDD</td>\n",
       "      <td>Nvidia GeForce GTX 940MX</td>\n",
       "      <td>Gemini 5</td>\n",
       "      <td>2.2kg</td>\n",
       "      <td>15.6inch 1366x768</td>\n",
       "      <td>8034908.00</td>\n",
       "    </tr>\n",
       "  </tbody>\n",
       "</table>\n",
       "</div>"
      ],
      "text/plain": [
       "    Brand                Tipe                         CPU  RAM        Memori  \\\n",
       "0   Pulse                 NaN  Intel Core i3 7100U 2.4GHz  8GB     256GB SSD   \n",
       "1   Pulse            Notebook  Intel Core i7 6500U 2.5GHz  4GB  1.0TB Hybrid   \n",
       "2  Zenith  2 in 1 Convertible                         NaN  8GB     256GB SSD   \n",
       "3   Vivid            Notebook                         NaN  4GB     500GB HDD   \n",
       "4  Zenith            Notebook    Intel Core i3 6006U 2GHz  NaN     500GB HDD   \n",
       "\n",
       "                        GPU SistemOperasi   Berat  \\\n",
       "0     Intel HD Graphics 620      Gemini 5   1.4kg   \n",
       "1     Intel HD Graphics 520      Gemini 2  2.32kg   \n",
       "2     Intel HD Graphics 520      Gemini 5   1.6kg   \n",
       "3     Intel HD Graphics 400         No OS  1.86kg   \n",
       "4  Nvidia GeForce GTX 940MX      Gemini 5   2.2kg   \n",
       "\n",
       "                                               Layar        Harga  \n",
       "0               13.3inch IPS Panel Full HD 1920x1080  16258268.00  \n",
       "1                         15.6inch Full HD 1920x1080  14133900.00  \n",
       "2  13.3inch IPS Panel Full HD / Touchscreen 1920x...  13517319.32  \n",
       "3                                  15.6inch 1366x768   4437188.00  \n",
       "4                                  15.6inch 1366x768   8034908.00  "
      ]
     },
     "execution_count": 4,
     "metadata": {},
     "output_type": "execute_result"
    }
   ],
   "source": [
    "data.head()"
   ]
  },
  {
   "cell_type": "code",
   "execution_count": 5,
   "metadata": {},
   "outputs": [
    {
     "data": {
      "text/plain": [
       "Index(['Brand', 'Tipe', 'CPU', 'RAM', 'Memori', 'GPU', 'SistemOperasi',\n",
       "       'Berat', 'Layar', 'Harga'],\n",
       "      dtype='object')"
      ]
     },
     "execution_count": 5,
     "metadata": {},
     "output_type": "execute_result"
    }
   ],
   "source": [
    "data.columns"
   ]
  },
  {
   "cell_type": "code",
   "execution_count": 6,
   "metadata": {},
   "outputs": [
    {
     "data": {
      "text/html": [
       "<div>\n",
       "<style scoped>\n",
       "    .dataframe tbody tr th:only-of-type {\n",
       "        vertical-align: middle;\n",
       "    }\n",
       "\n",
       "    .dataframe tbody tr th {\n",
       "        vertical-align: top;\n",
       "    }\n",
       "\n",
       "    .dataframe thead th {\n",
       "        text-align: right;\n",
       "    }\n",
       "</style>\n",
       "<table border=\"1\" class=\"dataframe\">\n",
       "  <thead>\n",
       "    <tr style=\"text-align: right;\">\n",
       "      <th></th>\n",
       "      <th>Brand</th>\n",
       "      <th>Tipe</th>\n",
       "      <th>CPU</th>\n",
       "      <th>RAM</th>\n",
       "      <th>Memori</th>\n",
       "      <th>GPU</th>\n",
       "      <th>SistemOperasi</th>\n",
       "      <th>Berat</th>\n",
       "      <th>Layar</th>\n",
       "      <th>Harga</th>\n",
       "    </tr>\n",
       "  </thead>\n",
       "  <tbody>\n",
       "    <tr>\n",
       "      <th>0</th>\n",
       "      <td>Pulse</td>\n",
       "      <td>NaN</td>\n",
       "      <td>Intel Core i3 7100U 2.4GHz</td>\n",
       "      <td>8GB</td>\n",
       "      <td>256GB SSD</td>\n",
       "      <td>Intel HD Graphics 620</td>\n",
       "      <td>Gemini 5</td>\n",
       "      <td>1.4kg</td>\n",
       "      <td>13.3inch IPS Panel Full HD 1920x1080</td>\n",
       "      <td>16258268.00</td>\n",
       "    </tr>\n",
       "    <tr>\n",
       "      <th>1</th>\n",
       "      <td>Pulse</td>\n",
       "      <td>Notebook</td>\n",
       "      <td>Intel Core i7 6500U 2.5GHz</td>\n",
       "      <td>4GB</td>\n",
       "      <td>1.0TB Hybrid</td>\n",
       "      <td>Intel HD Graphics 520</td>\n",
       "      <td>Gemini 2</td>\n",
       "      <td>2.32kg</td>\n",
       "      <td>15.6inch Full HD 1920x1080</td>\n",
       "      <td>14133900.00</td>\n",
       "    </tr>\n",
       "    <tr>\n",
       "      <th>2</th>\n",
       "      <td>Zenith</td>\n",
       "      <td>2 in 1 Convertible</td>\n",
       "      <td>NaN</td>\n",
       "      <td>8GB</td>\n",
       "      <td>256GB SSD</td>\n",
       "      <td>Intel HD Graphics 520</td>\n",
       "      <td>Gemini 5</td>\n",
       "      <td>1.6kg</td>\n",
       "      <td>13.3inch IPS Panel Full HD / Touchscreen 1920x...</td>\n",
       "      <td>13517319.32</td>\n",
       "    </tr>\n",
       "    <tr>\n",
       "      <th>3</th>\n",
       "      <td>Vivid</td>\n",
       "      <td>Notebook</td>\n",
       "      <td>NaN</td>\n",
       "      <td>4GB</td>\n",
       "      <td>500GB HDD</td>\n",
       "      <td>Intel HD Graphics 400</td>\n",
       "      <td>No OS</td>\n",
       "      <td>1.86kg</td>\n",
       "      <td>15.6inch 1366x768</td>\n",
       "      <td>4437188.00</td>\n",
       "    </tr>\n",
       "    <tr>\n",
       "      <th>4</th>\n",
       "      <td>Zenith</td>\n",
       "      <td>Notebook</td>\n",
       "      <td>Intel Core i3 6006U 2GHz</td>\n",
       "      <td>NaN</td>\n",
       "      <td>500GB HDD</td>\n",
       "      <td>Nvidia GeForce GTX 940MX</td>\n",
       "      <td>Gemini 5</td>\n",
       "      <td>2.2kg</td>\n",
       "      <td>15.6inch 1366x768</td>\n",
       "      <td>8034908.00</td>\n",
       "    </tr>\n",
       "    <tr>\n",
       "      <th>...</th>\n",
       "      <td>...</td>\n",
       "      <td>...</td>\n",
       "      <td>...</td>\n",
       "      <td>...</td>\n",
       "      <td>...</td>\n",
       "      <td>...</td>\n",
       "      <td>...</td>\n",
       "      <td>...</td>\n",
       "      <td>...</td>\n",
       "      <td>...</td>\n",
       "    </tr>\n",
       "    <tr>\n",
       "      <th>1037</th>\n",
       "      <td>Pulse</td>\n",
       "      <td>Notebook</td>\n",
       "      <td>Intel Core i7 7820HQ 2.9GHz</td>\n",
       "      <td>8GB</td>\n",
       "      <td>256GB SSD</td>\n",
       "      <td>Nvidia Quadro M2200M</td>\n",
       "      <td>Gemini 5</td>\n",
       "      <td>2.67kg</td>\n",
       "      <td>15.6inch Full HD 1920x1080</td>\n",
       "      <td>35805880.00</td>\n",
       "    </tr>\n",
       "    <tr>\n",
       "      <th>1038</th>\n",
       "      <td>Stellar</td>\n",
       "      <td>Notebook</td>\n",
       "      <td>Intel Pentium Quad Core N4200 1.1GHz</td>\n",
       "      <td>4GB</td>\n",
       "      <td>500GB HDD</td>\n",
       "      <td>Intel HD Graphics 500</td>\n",
       "      <td>Gemini 5</td>\n",
       "      <td>2kg</td>\n",
       "      <td>15.6inch 1366x768</td>\n",
       "      <td>5208128.00</td>\n",
       "    </tr>\n",
       "    <tr>\n",
       "      <th>1039</th>\n",
       "      <td>Vivid</td>\n",
       "      <td>2 in 1 Convertible</td>\n",
       "      <td>Intel Core i5 7200U 2.5GHz</td>\n",
       "      <td>8GB</td>\n",
       "      <td>256GB SSD</td>\n",
       "      <td>Intel HD Graphics 620</td>\n",
       "      <td>Gemini 5</td>\n",
       "      <td>1.28kg</td>\n",
       "      <td>13.3inch Full HD / Touchscreen 1920x1080</td>\n",
       "      <td>39009564.00</td>\n",
       "    </tr>\n",
       "    <tr>\n",
       "      <th>1040</th>\n",
       "      <td>Stellar</td>\n",
       "      <td>Notebook</td>\n",
       "      <td>Intel Celeron Dual Core N3350 1.1GHz</td>\n",
       "      <td>4GB</td>\n",
       "      <td>32GB Flash Storage</td>\n",
       "      <td>Intel HD Graphics 500</td>\n",
       "      <td>Gemini 5</td>\n",
       "      <td>1.63kg</td>\n",
       "      <td>14.0inch 1366x768</td>\n",
       "      <td>5122468.00</td>\n",
       "    </tr>\n",
       "    <tr>\n",
       "      <th>1041</th>\n",
       "      <td>Vivid</td>\n",
       "      <td>Notebook</td>\n",
       "      <td>Intel Core i5 7200U 2.5GHz</td>\n",
       "      <td>8GB</td>\n",
       "      <td>1TB HDD</td>\n",
       "      <td>Intel HD Graphics 620</td>\n",
       "      <td>Gemini 5</td>\n",
       "      <td>2.04kg</td>\n",
       "      <td>15.6inch Touchscreen 1366x768</td>\n",
       "      <td>9576788.00</td>\n",
       "    </tr>\n",
       "  </tbody>\n",
       "</table>\n",
       "<p>1042 rows × 10 columns</p>\n",
       "</div>"
      ],
      "text/plain": [
       "        Brand                Tipe                                   CPU  RAM  \\\n",
       "0       Pulse                 NaN            Intel Core i3 7100U 2.4GHz  8GB   \n",
       "1       Pulse            Notebook            Intel Core i7 6500U 2.5GHz  4GB   \n",
       "2      Zenith  2 in 1 Convertible                                   NaN  8GB   \n",
       "3       Vivid            Notebook                                   NaN  4GB   \n",
       "4      Zenith            Notebook              Intel Core i3 6006U 2GHz  NaN   \n",
       "...       ...                 ...                                   ...  ...   \n",
       "1037    Pulse            Notebook           Intel Core i7 7820HQ 2.9GHz  8GB   \n",
       "1038  Stellar            Notebook  Intel Pentium Quad Core N4200 1.1GHz  4GB   \n",
       "1039    Vivid  2 in 1 Convertible            Intel Core i5 7200U 2.5GHz  8GB   \n",
       "1040  Stellar            Notebook  Intel Celeron Dual Core N3350 1.1GHz  4GB   \n",
       "1041    Vivid            Notebook            Intel Core i5 7200U 2.5GHz  8GB   \n",
       "\n",
       "                  Memori                       GPU SistemOperasi   Berat  \\\n",
       "0              256GB SSD     Intel HD Graphics 620      Gemini 5   1.4kg   \n",
       "1           1.0TB Hybrid     Intel HD Graphics 520      Gemini 2  2.32kg   \n",
       "2              256GB SSD     Intel HD Graphics 520      Gemini 5   1.6kg   \n",
       "3              500GB HDD     Intel HD Graphics 400         No OS  1.86kg   \n",
       "4              500GB HDD  Nvidia GeForce GTX 940MX      Gemini 5   2.2kg   \n",
       "...                  ...                       ...           ...     ...   \n",
       "1037           256GB SSD      Nvidia Quadro M2200M      Gemini 5  2.67kg   \n",
       "1038           500GB HDD     Intel HD Graphics 500      Gemini 5     2kg   \n",
       "1039           256GB SSD     Intel HD Graphics 620      Gemini 5  1.28kg   \n",
       "1040  32GB Flash Storage     Intel HD Graphics 500      Gemini 5  1.63kg   \n",
       "1041             1TB HDD     Intel HD Graphics 620      Gemini 5  2.04kg   \n",
       "\n",
       "                                                  Layar        Harga  \n",
       "0                  13.3inch IPS Panel Full HD 1920x1080  16258268.00  \n",
       "1                            15.6inch Full HD 1920x1080  14133900.00  \n",
       "2     13.3inch IPS Panel Full HD / Touchscreen 1920x...  13517319.32  \n",
       "3                                     15.6inch 1366x768   4437188.00  \n",
       "4                                     15.6inch 1366x768   8034908.00  \n",
       "...                                                 ...          ...  \n",
       "1037                         15.6inch Full HD 1920x1080  35805880.00  \n",
       "1038                                  15.6inch 1366x768   5208128.00  \n",
       "1039           13.3inch Full HD / Touchscreen 1920x1080  39009564.00  \n",
       "1040                                  14.0inch 1366x768   5122468.00  \n",
       "1041                      15.6inch Touchscreen 1366x768   9576788.00  \n",
       "\n",
       "[1042 rows x 10 columns]"
      ]
     },
     "execution_count": 6,
     "metadata": {},
     "output_type": "execute_result"
    }
   ],
   "source": [
    "data"
   ]
  },
  {
   "cell_type": "code",
   "execution_count": 7,
   "metadata": {},
   "outputs": [
    {
     "name": "stdout",
     "output_type": "stream",
     "text": [
      "<class 'pandas.core.frame.DataFrame'>\n",
      "RangeIndex: 1042 entries, 0 to 1041\n",
      "Data columns (total 10 columns):\n",
      " #   Column         Non-Null Count  Dtype  \n",
      "---  ------         --------------  -----  \n",
      " 0   Brand          1042 non-null   object \n",
      " 1   Tipe           979 non-null    object \n",
      " 2   CPU            948 non-null    object \n",
      " 3   RAM            1011 non-null   object \n",
      " 4   Memori         1042 non-null   object \n",
      " 5   GPU            979 non-null    object \n",
      " 6   SistemOperasi  1011 non-null   object \n",
      " 7   Berat          1042 non-null   object \n",
      " 8   Layar          1042 non-null   object \n",
      " 9   Harga          1042 non-null   float64\n",
      "dtypes: float64(1), object(9)\n",
      "memory usage: 81.5+ KB\n"
     ]
    }
   ],
   "source": [
    "data.info()"
   ]
  },
  {
   "cell_type": "code",
   "execution_count": 8,
   "metadata": {},
   "outputs": [
    {
     "data": {
      "text/html": [
       "<div>\n",
       "<style scoped>\n",
       "    .dataframe tbody tr th:only-of-type {\n",
       "        vertical-align: middle;\n",
       "    }\n",
       "\n",
       "    .dataframe tbody tr th {\n",
       "        vertical-align: top;\n",
       "    }\n",
       "\n",
       "    .dataframe thead th {\n",
       "        text-align: right;\n",
       "    }\n",
       "</style>\n",
       "<table border=\"1\" class=\"dataframe\">\n",
       "  <thead>\n",
       "    <tr style=\"text-align: right;\">\n",
       "      <th></th>\n",
       "      <th>Harga</th>\n",
       "    </tr>\n",
       "  </thead>\n",
       "  <tbody>\n",
       "    <tr>\n",
       "      <th>count</th>\n",
       "      <td>1.042000e+03</td>\n",
       "    </tr>\n",
       "    <tr>\n",
       "      <th>mean</th>\n",
       "      <td>1.919699e+07</td>\n",
       "    </tr>\n",
       "    <tr>\n",
       "      <th>std</th>\n",
       "      <td>1.186602e+07</td>\n",
       "    </tr>\n",
       "    <tr>\n",
       "      <th>min</th>\n",
       "      <td>2.980968e+06</td>\n",
       "    </tr>\n",
       "    <tr>\n",
       "      <th>25%</th>\n",
       "      <td>1.026207e+07</td>\n",
       "    </tr>\n",
       "    <tr>\n",
       "      <th>50%</th>\n",
       "      <td>1.666944e+07</td>\n",
       "    </tr>\n",
       "    <tr>\n",
       "      <th>75%</th>\n",
       "      <td>2.545520e+07</td>\n",
       "    </tr>\n",
       "    <tr>\n",
       "      <th>max</th>\n",
       "      <td>1.044881e+08</td>\n",
       "    </tr>\n",
       "  </tbody>\n",
       "</table>\n",
       "</div>"
      ],
      "text/plain": [
       "              Harga\n",
       "count  1.042000e+03\n",
       "mean   1.919699e+07\n",
       "std    1.186602e+07\n",
       "min    2.980968e+06\n",
       "25%    1.026207e+07\n",
       "50%    1.666944e+07\n",
       "75%    2.545520e+07\n",
       "max    1.044881e+08"
      ]
     },
     "execution_count": 8,
     "metadata": {},
     "output_type": "execute_result"
    }
   ],
   "source": [
    "data.describe()"
   ]
  },
  {
   "cell_type": "markdown",
   "metadata": {},
   "source": [
    "## Preprocessing"
   ]
  },
  {
   "cell_type": "markdown",
   "metadata": {},
   "source": [
    "### Encoding all categorical feature"
   ]
  },
  {
   "cell_type": "code",
   "execution_count": 9,
   "metadata": {},
   "outputs": [],
   "source": [
    "categorical_columns = ['Brand', 'Tipe', 'CPU', 'RAM', 'Memori', 'GPU', 'SistemOperasi', 'Layar']\n",
    "for column in categorical_columns:\n",
    "    data[column] = data[column].fillna('Unknown')"
   ]
  },
  {
   "cell_type": "code",
   "execution_count": 10,
   "metadata": {},
   "outputs": [],
   "source": [
    "data['Berat'] = data['Berat'].str.extract('(\\d+\\.?\\d*)').astype(float) # Extract numbers including decimals\n",
    "data['RAM'] = data['RAM'].str.extract('(\\d+\\.?\\d*)').astype(float) # Extract numbers including decimals"
   ]
  },
  {
   "cell_type": "code",
   "execution_count": 11,
   "metadata": {},
   "outputs": [],
   "source": [
    "df = pd.DataFrame(data)\n",
    "\n",
    "# Applying one-hot encoding\n",
    "data = pd.get_dummies(df, columns=['Brand', 'Tipe', 'CPU', 'RAM', 'Memori', 'GPU', 'SistemOperasi', 'Layar'])"
   ]
  },
  {
   "cell_type": "code",
   "execution_count": 12,
   "metadata": {},
   "outputs": [
    {
     "name": "stdout",
     "output_type": "stream",
     "text": [
      "<class 'pandas.core.frame.DataFrame'>\n",
      "RangeIndex: 1042 entries, 0 to 1041\n",
      "Columns: 377 entries, Berat to Layar_18.4inch Full HD 1920x1080\n",
      "dtypes: bool(375), float64(2)\n",
      "memory usage: 398.0 KB\n"
     ]
    }
   ],
   "source": [
    "data.info()"
   ]
  },
  {
   "cell_type": "markdown",
   "metadata": {},
   "source": [
    "## Modelling "
   ]
  },
  {
   "cell_type": "markdown",
   "metadata": {},
   "source": [
    "### Ridge regression "
   ]
  },
  {
   "cell_type": "code",
   "execution_count": 13,
   "metadata": {},
   "outputs": [
    {
     "data": {
      "text/html": [
       "<style>#sk-container-id-1 {color: black;}#sk-container-id-1 pre{padding: 0;}#sk-container-id-1 div.sk-toggleable {background-color: white;}#sk-container-id-1 label.sk-toggleable__label {cursor: pointer;display: block;width: 100%;margin-bottom: 0;padding: 0.3em;box-sizing: border-box;text-align: center;}#sk-container-id-1 label.sk-toggleable__label-arrow:before {content: \"▸\";float: left;margin-right: 0.25em;color: #696969;}#sk-container-id-1 label.sk-toggleable__label-arrow:hover:before {color: black;}#sk-container-id-1 div.sk-estimator:hover label.sk-toggleable__label-arrow:before {color: black;}#sk-container-id-1 div.sk-toggleable__content {max-height: 0;max-width: 0;overflow: hidden;text-align: left;background-color: #f0f8ff;}#sk-container-id-1 div.sk-toggleable__content pre {margin: 0.2em;color: black;border-radius: 0.25em;background-color: #f0f8ff;}#sk-container-id-1 input.sk-toggleable__control:checked~div.sk-toggleable__content {max-height: 200px;max-width: 100%;overflow: auto;}#sk-container-id-1 input.sk-toggleable__control:checked~label.sk-toggleable__label-arrow:before {content: \"▾\";}#sk-container-id-1 div.sk-estimator input.sk-toggleable__control:checked~label.sk-toggleable__label {background-color: #d4ebff;}#sk-container-id-1 div.sk-label input.sk-toggleable__control:checked~label.sk-toggleable__label {background-color: #d4ebff;}#sk-container-id-1 input.sk-hidden--visually {border: 0;clip: rect(1px 1px 1px 1px);clip: rect(1px, 1px, 1px, 1px);height: 1px;margin: -1px;overflow: hidden;padding: 0;position: absolute;width: 1px;}#sk-container-id-1 div.sk-estimator {font-family: monospace;background-color: #f0f8ff;border: 1px dotted black;border-radius: 0.25em;box-sizing: border-box;margin-bottom: 0.5em;}#sk-container-id-1 div.sk-estimator:hover {background-color: #d4ebff;}#sk-container-id-1 div.sk-parallel-item::after {content: \"\";width: 100%;border-bottom: 1px solid gray;flex-grow: 1;}#sk-container-id-1 div.sk-label:hover label.sk-toggleable__label {background-color: #d4ebff;}#sk-container-id-1 div.sk-serial::before {content: \"\";position: absolute;border-left: 1px solid gray;box-sizing: border-box;top: 0;bottom: 0;left: 50%;z-index: 0;}#sk-container-id-1 div.sk-serial {display: flex;flex-direction: column;align-items: center;background-color: white;padding-right: 0.2em;padding-left: 0.2em;position: relative;}#sk-container-id-1 div.sk-item {position: relative;z-index: 1;}#sk-container-id-1 div.sk-parallel {display: flex;align-items: stretch;justify-content: center;background-color: white;position: relative;}#sk-container-id-1 div.sk-item::before, #sk-container-id-1 div.sk-parallel-item::before {content: \"\";position: absolute;border-left: 1px solid gray;box-sizing: border-box;top: 0;bottom: 0;left: 50%;z-index: -1;}#sk-container-id-1 div.sk-parallel-item {display: flex;flex-direction: column;z-index: 1;position: relative;background-color: white;}#sk-container-id-1 div.sk-parallel-item:first-child::after {align-self: flex-end;width: 50%;}#sk-container-id-1 div.sk-parallel-item:last-child::after {align-self: flex-start;width: 50%;}#sk-container-id-1 div.sk-parallel-item:only-child::after {width: 0;}#sk-container-id-1 div.sk-dashed-wrapped {border: 1px dashed gray;margin: 0 0.4em 0.5em 0.4em;box-sizing: border-box;padding-bottom: 0.4em;background-color: white;}#sk-container-id-1 div.sk-label label {font-family: monospace;font-weight: bold;display: inline-block;line-height: 1.2em;}#sk-container-id-1 div.sk-label-container {text-align: center;}#sk-container-id-1 div.sk-container {/* jupyter's `normalize.less` sets `[hidden] { display: none; }` but bootstrap.min.css set `[hidden] { display: none !important; }` so we also need the `!important` here to be able to override the default hidden behavior on the sphinx rendered scikit-learn.org. See: https://github.com/scikit-learn/scikit-learn/issues/21755 */display: inline-block !important;position: relative;}#sk-container-id-1 div.sk-text-repr-fallback {display: none;}</style><div id=\"sk-container-id-1\" class=\"sk-top-container\"><div class=\"sk-text-repr-fallback\"><pre>GridSearchCV(cv=5, estimator=Ridge(),\n",
       "             param_grid={&#x27;alpha&#x27;: [1e-15, 1e-10, 1e-08, 0.0001, 0.001, 0.01, 1,\n",
       "                                   5, 10, 20]},\n",
       "             scoring=&#x27;neg_mean_squared_error&#x27;)</pre><b>In a Jupyter environment, please rerun this cell to show the HTML representation or trust the notebook. <br />On GitHub, the HTML representation is unable to render, please try loading this page with nbviewer.org.</b></div><div class=\"sk-container\" hidden><div class=\"sk-item sk-dashed-wrapped\"><div class=\"sk-label-container\"><div class=\"sk-label sk-toggleable\"><input class=\"sk-toggleable__control sk-hidden--visually\" id=\"sk-estimator-id-1\" type=\"checkbox\" ><label for=\"sk-estimator-id-1\" class=\"sk-toggleable__label sk-toggleable__label-arrow\">GridSearchCV</label><div class=\"sk-toggleable__content\"><pre>GridSearchCV(cv=5, estimator=Ridge(),\n",
       "             param_grid={&#x27;alpha&#x27;: [1e-15, 1e-10, 1e-08, 0.0001, 0.001, 0.01, 1,\n",
       "                                   5, 10, 20]},\n",
       "             scoring=&#x27;neg_mean_squared_error&#x27;)</pre></div></div></div><div class=\"sk-parallel\"><div class=\"sk-parallel-item\"><div class=\"sk-item\"><div class=\"sk-label-container\"><div class=\"sk-label sk-toggleable\"><input class=\"sk-toggleable__control sk-hidden--visually\" id=\"sk-estimator-id-2\" type=\"checkbox\" ><label for=\"sk-estimator-id-2\" class=\"sk-toggleable__label sk-toggleable__label-arrow\">estimator: Ridge</label><div class=\"sk-toggleable__content\"><pre>Ridge()</pre></div></div></div><div class=\"sk-serial\"><div class=\"sk-item\"><div class=\"sk-estimator sk-toggleable\"><input class=\"sk-toggleable__control sk-hidden--visually\" id=\"sk-estimator-id-3\" type=\"checkbox\" ><label for=\"sk-estimator-id-3\" class=\"sk-toggleable__label sk-toggleable__label-arrow\">Ridge</label><div class=\"sk-toggleable__content\"><pre>Ridge()</pre></div></div></div></div></div></div></div></div></div></div>"
      ],
      "text/plain": [
       "GridSearchCV(cv=5, estimator=Ridge(),\n",
       "             param_grid={'alpha': [1e-15, 1e-10, 1e-08, 0.0001, 0.001, 0.01, 1,\n",
       "                                   5, 10, 20]},\n",
       "             scoring='neg_mean_squared_error')"
      ]
     },
     "execution_count": 13,
     "metadata": {},
     "output_type": "execute_result"
    }
   ],
   "source": [
    "from sklearn.model_selection import cross_val_score\n",
    "from sklearn.model_selection import GridSearchCV\n",
    "from sklearn.linear_model import Ridge\n",
    "\n",
    "Xs = data.drop(['Harga'], axis=1)\n",
    "y = data['Harga'].values.reshape(-2,1)\n",
    "\n",
    "alpha = [1e-15, 1e-10, 1e-8, 1e-4, 1e-3,1e-2, 1, 5, 10, 20]\n",
    "\n",
    "ridge = Ridge()\n",
    "\n",
    "parameters = {'alpha': [1e-15, 1e-10, 1e-8, 1e-4, 1e-3,1e-2, 1, 5, 10, 20]}\n",
    "\n",
    "ridge_regressor = GridSearchCV(ridge, parameters,scoring='neg_mean_squared_error', cv=5)\n",
    "\n",
    "ridge_regressor.fit(Xs, y)"
   ]
  },
  {
   "cell_type": "code",
   "execution_count": 14,
   "metadata": {},
   "outputs": [
    {
     "data": {
      "text/plain": [
       "{'alpha': 1}"
      ]
     },
     "execution_count": 14,
     "metadata": {},
     "output_type": "execute_result"
    }
   ],
   "source": [
    "ridge_regressor.best_params_"
   ]
  },
  {
   "cell_type": "code",
   "execution_count": 15,
   "metadata": {},
   "outputs": [
    {
     "data": {
      "text/plain": [
       "-29510710890887.28"
      ]
     },
     "execution_count": 15,
     "metadata": {},
     "output_type": "execute_result"
    }
   ],
   "source": [
    "ridge_regressor.best_score_"
   ]
  },
  {
   "cell_type": "code",
   "execution_count": 16,
   "metadata": {},
   "outputs": [
    {
     "name": "stdout",
     "output_type": "stream",
     "text": [
      "[4933185.40869192 6232748.82370249 5281451.66613585 4769683.62638874\n",
      " 5807449.06830622]\n"
     ]
    }
   ],
   "source": [
    "neg_mse_scores1 = cross_val_score(ridge_regressor, Xs, y, scoring='neg_mean_squared_error', cv=5)\n",
    "mse_scores = -neg_mse_scores1\n",
    "rmse_scores = np.sqrt(mse_scores)\n",
    "\n",
    "print(rmse_scores)"
   ]
  },
  {
   "cell_type": "markdown",
   "metadata": {},
   "source": [
    "# Predicting The Test set\n"
   ]
  },
  {
   "cell_type": "markdown",
   "metadata": {},
   "source": [
    "## processing the test data"
   ]
  },
  {
   "cell_type": "code",
   "execution_count": 17,
   "metadata": {},
   "outputs": [
    {
     "data": {
      "text/html": [
       "<div>\n",
       "<style scoped>\n",
       "    .dataframe tbody tr th:only-of-type {\n",
       "        vertical-align: middle;\n",
       "    }\n",
       "\n",
       "    .dataframe tbody tr th {\n",
       "        vertical-align: top;\n",
       "    }\n",
       "\n",
       "    .dataframe thead th {\n",
       "        text-align: right;\n",
       "    }\n",
       "</style>\n",
       "<table border=\"1\" class=\"dataframe\">\n",
       "  <thead>\n",
       "    <tr style=\"text-align: right;\">\n",
       "      <th></th>\n",
       "      <th>ID</th>\n",
       "      <th>Brand</th>\n",
       "      <th>Tipe</th>\n",
       "      <th>CPU</th>\n",
       "      <th>RAM</th>\n",
       "      <th>Memori</th>\n",
       "      <th>GPU</th>\n",
       "      <th>SistemOperasi</th>\n",
       "      <th>Berat</th>\n",
       "      <th>Layar</th>\n",
       "    </tr>\n",
       "  </thead>\n",
       "  <tbody>\n",
       "    <tr>\n",
       "      <th>0</th>\n",
       "      <td>0</td>\n",
       "      <td>Pulse</td>\n",
       "      <td>Gaming</td>\n",
       "      <td>Intel Core i7 6820HK 2.7GHz</td>\n",
       "      <td>32GB</td>\n",
       "      <td>512GB SSD +  1.0TB Hybrid</td>\n",
       "      <td>Nvidia GeForce GTX 980M</td>\n",
       "      <td>Gemini 5</td>\n",
       "      <td>4.6kg</td>\n",
       "      <td>17.3inch IPS Panel Full HD 1920x1080</td>\n",
       "    </tr>\n",
       "    <tr>\n",
       "      <th>1</th>\n",
       "      <td>1</td>\n",
       "      <td>Vivid</td>\n",
       "      <td>Notebook</td>\n",
       "      <td>Intel Core i3 6006U 2GHz</td>\n",
       "      <td>4GB</td>\n",
       "      <td>500GB HDD</td>\n",
       "      <td>Intel HD Graphics 520</td>\n",
       "      <td>No OS</td>\n",
       "      <td>1.86kg</td>\n",
       "      <td>15.6inch 1366x768</td>\n",
       "    </tr>\n",
       "    <tr>\n",
       "      <th>2</th>\n",
       "      <td>2</td>\n",
       "      <td>Eclipse</td>\n",
       "      <td>Notebook</td>\n",
       "      <td>Intel Pentium Quad Core N3710 1.6GHz</td>\n",
       "      <td>4GB</td>\n",
       "      <td>500GB HDD</td>\n",
       "      <td>Intel HD Graphics</td>\n",
       "      <td>Gemini 5</td>\n",
       "      <td>2.2kg</td>\n",
       "      <td>15.6inch 1366x768</td>\n",
       "    </tr>\n",
       "    <tr>\n",
       "      <th>3</th>\n",
       "      <td>3</td>\n",
       "      <td>Orbit</td>\n",
       "      <td>Ultrabook</td>\n",
       "      <td>Intel Core i5 7200U 2.5GHz</td>\n",
       "      <td>4GB</td>\n",
       "      <td>128GB SSD</td>\n",
       "      <td>Intel HD Graphics 620</td>\n",
       "      <td>Gemini 5 S</td>\n",
       "      <td>1.252kg</td>\n",
       "      <td>13.5inch Touchscreen 2256x1504</td>\n",
       "    </tr>\n",
       "    <tr>\n",
       "      <th>4</th>\n",
       "      <td>4</td>\n",
       "      <td>Pulse</td>\n",
       "      <td>Ultrabook</td>\n",
       "      <td>Intel Core i7 7500U 2.7GHz</td>\n",
       "      <td>8GB</td>\n",
       "      <td>256GB SSD</td>\n",
       "      <td>Intel HD Graphics 620</td>\n",
       "      <td>Gemini 5</td>\n",
       "      <td>1.36kg</td>\n",
       "      <td>12.5inch IPS Panel Full HD 1920x1080</td>\n",
       "    </tr>\n",
       "  </tbody>\n",
       "</table>\n",
       "</div>"
      ],
      "text/plain": [
       "   ID    Brand       Tipe                                   CPU   RAM  \\\n",
       "0   0    Pulse     Gaming           Intel Core i7 6820HK 2.7GHz  32GB   \n",
       "1   1    Vivid   Notebook              Intel Core i3 6006U 2GHz   4GB   \n",
       "2   2  Eclipse   Notebook  Intel Pentium Quad Core N3710 1.6GHz   4GB   \n",
       "3   3    Orbit  Ultrabook            Intel Core i5 7200U 2.5GHz   4GB   \n",
       "4   4    Pulse  Ultrabook            Intel Core i7 7500U 2.7GHz   8GB   \n",
       "\n",
       "                      Memori                      GPU SistemOperasi    Berat  \\\n",
       "0  512GB SSD +  1.0TB Hybrid  Nvidia GeForce GTX 980M      Gemini 5    4.6kg   \n",
       "1                  500GB HDD    Intel HD Graphics 520         No OS   1.86kg   \n",
       "2                  500GB HDD        Intel HD Graphics      Gemini 5    2.2kg   \n",
       "3                  128GB SSD    Intel HD Graphics 620    Gemini 5 S  1.252kg   \n",
       "4                  256GB SSD    Intel HD Graphics 620      Gemini 5   1.36kg   \n",
       "\n",
       "                                  Layar  \n",
       "0  17.3inch IPS Panel Full HD 1920x1080  \n",
       "1                     15.6inch 1366x768  \n",
       "2                     15.6inch 1366x768  \n",
       "3        13.5inch Touchscreen 2256x1504  \n",
       "4  12.5inch IPS Panel Full HD 1920x1080  "
      ]
     },
     "execution_count": 17,
     "metadata": {},
     "output_type": "execute_result"
    }
   ],
   "source": [
    "DATAPATH_test = 'test.csv'\n",
    "\n",
    "data_test = pd.read_csv(DATAPATH_test)\n",
    "data_test.head()"
   ]
  },
  {
   "cell_type": "code",
   "execution_count": 18,
   "metadata": {},
   "outputs": [],
   "source": [
    "# Assuming `data_test` is your raw test DataFrame before dropping 'ID'\n",
    "test_ids = data_test['ID'].copy()\n",
    "data_test.drop(['ID'], axis=1, inplace=True)\n",
    "\n",
    "data_test['Berat'] = data_test['Berat'].str.extract('(\\d+\\.?\\d*)').astype(float) # Extract numbers including decimals\n",
    "\n",
    "df_test = pd.DataFrame(data_test)\n",
    "\n",
    "# Applying one-hot encoding\n",
    "data_test = pd.get_dummies(df_test, columns=['Brand', 'Tipe', 'CPU', 'RAM', 'Memori', 'GPU', 'SistemOperasi', 'Layar'])"
   ]
  },
  {
   "cell_type": "code",
   "execution_count": 19,
   "metadata": {},
   "outputs": [
    {
     "data": {
      "text/plain": [
       "Index(['Berat', 'Brand_Cosmo', 'Brand_Eclipse', 'Brand_Epic', 'Brand_Galaxy',\n",
       "       'Brand_Lumina', 'Brand_Orbit', 'Brand_Pulse', 'Brand_Puzzle',\n",
       "       'Brand_Quantum',\n",
       "       ...\n",
       "       'Layar_15.6inch IPS Panel Full HD / Touchscreen 1920x1080',\n",
       "       'Layar_15.6inch IPS Panel Full HD 1920x1080',\n",
       "       'Layar_15.6inch Touchscreen 1366x768', 'Layar_17.3inch 1366x768',\n",
       "       'Layar_17.3inch 1600x900',\n",
       "       'Layar_17.3inch 4K Ultra HD / Touchscreen 3840x2160',\n",
       "       'Layar_17.3inch Full HD / Touchscreen 1920x1080',\n",
       "       'Layar_17.3inch Full HD 1920x1080',\n",
       "       'Layar_17.3inch IPS Panel 4K Ultra HD 3840x2160',\n",
       "       'Layar_17.3inch IPS Panel Full HD 1920x1080'],\n",
       "      dtype='object', length=207)"
      ]
     },
     "execution_count": 19,
     "metadata": {},
     "output_type": "execute_result"
    }
   ],
   "source": [
    "data_test.columns"
   ]
  },
  {
   "cell_type": "code",
   "execution_count": 20,
   "metadata": {},
   "outputs": [
    {
     "name": "stdout",
     "output_type": "stream",
     "text": [
      "<class 'pandas.core.frame.DataFrame'>\n",
      "RangeIndex: 261 entries, 0 to 260\n",
      "Columns: 207 entries, Berat to Layar_17.3inch IPS Panel Full HD 1920x1080\n",
      "dtypes: bool(206), float64(1)\n",
      "memory usage: 54.7 KB\n"
     ]
    }
   ],
   "source": [
    "data_test.info()"
   ]
  },
  {
   "cell_type": "code",
   "execution_count": 21,
   "metadata": {},
   "outputs": [],
   "source": [
    "# Align test dataset columns with training dataset\n",
    "Xs_test_aligned = data_test.reindex(columns=Xs.columns, fill_value=0)\n"
   ]
  },
  {
   "cell_type": "markdown",
   "metadata": {},
   "source": [
    "## Predicting The Test Data"
   ]
  },
  {
   "cell_type": "code",
   "execution_count": 22,
   "metadata": {},
   "outputs": [],
   "source": [
    "y_pred = ridge_regressor.predict(Xs_test_aligned)"
   ]
  },
  {
   "cell_type": "code",
   "execution_count": 23,
   "metadata": {},
   "outputs": [],
   "source": [
    "# Convert predictions to a DataFrame\n",
    "predictions_df = pd.DataFrame(y_pred, columns=['Harga'])\n",
    "\n",
    "# Add the ID column\n",
    "predictions_df['ID'] = test_ids.values\n",
    "\n",
    "# Ensure the ID column is the first column\n",
    "predictions_df = predictions_df[['ID', 'Harga']]\n"
   ]
  },
  {
   "cell_type": "code",
   "execution_count": 24,
   "metadata": {},
   "outputs": [
    {
     "data": {
      "text/html": [
       "<div>\n",
       "<style scoped>\n",
       "    .dataframe tbody tr th:only-of-type {\n",
       "        vertical-align: middle;\n",
       "    }\n",
       "\n",
       "    .dataframe tbody tr th {\n",
       "        vertical-align: top;\n",
       "    }\n",
       "\n",
       "    .dataframe thead th {\n",
       "        text-align: right;\n",
       "    }\n",
       "</style>\n",
       "<table border=\"1\" class=\"dataframe\">\n",
       "  <thead>\n",
       "    <tr style=\"text-align: right;\">\n",
       "      <th></th>\n",
       "      <th>ID</th>\n",
       "      <th>Harga</th>\n",
       "    </tr>\n",
       "  </thead>\n",
       "  <tbody>\n",
       "    <tr>\n",
       "      <th>0</th>\n",
       "      <td>0</td>\n",
       "      <td>2.673363e+07</td>\n",
       "    </tr>\n",
       "    <tr>\n",
       "      <th>1</th>\n",
       "      <td>1</td>\n",
       "      <td>7.286764e+06</td>\n",
       "    </tr>\n",
       "    <tr>\n",
       "      <th>2</th>\n",
       "      <td>2</td>\n",
       "      <td>9.673583e+06</td>\n",
       "    </tr>\n",
       "    <tr>\n",
       "      <th>3</th>\n",
       "      <td>3</td>\n",
       "      <td>2.363533e+07</td>\n",
       "    </tr>\n",
       "    <tr>\n",
       "      <th>4</th>\n",
       "      <td>4</td>\n",
       "      <td>2.670597e+07</td>\n",
       "    </tr>\n",
       "  </tbody>\n",
       "</table>\n",
       "</div>"
      ],
      "text/plain": [
       "   ID         Harga\n",
       "0   0  2.673363e+07\n",
       "1   1  7.286764e+06\n",
       "2   2  9.673583e+06\n",
       "3   3  2.363533e+07\n",
       "4   4  2.670597e+07"
      ]
     },
     "execution_count": 24,
     "metadata": {},
     "output_type": "execute_result"
    }
   ],
   "source": [
    "predictions_df.head()"
   ]
  },
  {
   "cell_type": "code",
   "execution_count": 26,
   "metadata": {},
   "outputs": [],
   "source": [
    "# Export the DataFrame to a CSV file\n",
    "predictions_df.to_csv('predictions_ramdef.csv', index=False)\n"
   ]
  }
 ],
 "metadata": {
  "kernelspec": {
   "display_name": "Python 3",
   "language": "python",
   "name": "python3"
  },
  "language_info": {
   "codemirror_mode": {
    "name": "ipython",
    "version": 3
   },
   "file_extension": ".py",
   "mimetype": "text/x-python",
   "name": "python",
   "nbconvert_exporter": "python",
   "pygments_lexer": "ipython3",
   "version": "3.11.5"
  }
 },
 "nbformat": 4,
 "nbformat_minor": 2
}
